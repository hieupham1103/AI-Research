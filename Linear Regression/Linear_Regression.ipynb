{
 "cells": [
  {
   "cell_type": "code",
   "execution_count": 3,
   "metadata": {},
   "outputs": [],
   "source": [
    "import numpy as np\n",
    "import matplotlib.pyplot as plt"
   ]
  },
  {
   "cell_type": "markdown",
   "metadata": {},
   "source": [
    "Tạo ngẫu nhiên các cái giá trị cho dataset"
   ]
  },
  {
   "cell_type": "code",
   "execution_count": 4,
   "metadata": {},
   "outputs": [],
   "source": [
    "# np.random.seed(2)\n",
    "\n",
    "x1_list = np.random.rand(200, 1)\n",
    "# x2_list = np.random.rand(x1_list.shape[0], 1)\n",
    "\n",
    "y_list = 4 + 10 * x1_list + 0.2 * np.random.randn(x1_list.shape[0], 1)"
   ]
  },
  {
   "cell_type": "markdown",
   "metadata": {},
   "source": [
    "tạo ma trận X"
   ]
  },
  {
   "cell_type": "code",
   "execution_count": 5,
   "metadata": {},
   "outputs": [
    {
     "name": "stdout",
     "output_type": "stream",
     "text": [
      "[[1.         0.63864825]\n",
      " [1.         0.33458648]\n",
      " [1.         0.22150004]\n",
      " [1.         0.05114293]\n",
      " [1.         0.09212191]\n",
      " [1.         0.21037595]\n",
      " [1.         0.62933458]\n",
      " [1.         0.4703047 ]\n",
      " [1.         0.52010698]\n",
      " [1.         0.78554155]\n",
      " [1.         0.62040479]\n",
      " [1.         0.94138874]\n",
      " [1.         0.94399499]\n",
      " [1.         0.35678146]\n",
      " [1.         0.59159437]\n",
      " [1.         0.68424479]\n",
      " [1.         0.87479202]\n",
      " [1.         0.29535515]\n",
      " [1.         0.01629961]\n",
      " [1.         0.32247846]\n",
      " [1.         0.88814265]\n",
      " [1.         0.39812106]\n",
      " [1.         0.92366582]\n",
      " [1.         0.33816307]\n",
      " [1.         0.97090729]\n",
      " [1.         0.8800803 ]\n",
      " [1.         0.65873177]\n",
      " [1.         0.20789188]\n",
      " [1.         0.73496802]\n",
      " [1.         0.97982828]\n",
      " [1.         0.0643055 ]\n",
      " [1.         0.34559251]\n",
      " [1.         0.49225343]\n",
      " [1.         0.43612155]\n",
      " [1.         0.71810489]\n",
      " [1.         0.59068604]\n",
      " [1.         0.64066363]\n",
      " [1.         0.60419036]\n",
      " [1.         0.62621622]\n",
      " [1.         0.47063457]\n",
      " [1.         0.86683017]\n",
      " [1.         0.95502067]\n",
      " [1.         0.79481831]\n",
      " [1.         0.40781108]\n",
      " [1.         0.45936052]\n",
      " [1.         0.94484234]\n",
      " [1.         0.81205635]\n",
      " [1.         0.98936483]\n",
      " [1.         0.97586178]\n",
      " [1.         0.34593483]\n",
      " [1.         0.87121592]\n",
      " [1.         0.31868382]\n",
      " [1.         0.29027206]\n",
      " [1.         0.10699675]\n",
      " [1.         0.00504531]\n",
      " [1.         0.60366254]\n",
      " [1.         0.67562213]\n",
      " [1.         0.63987321]\n",
      " [1.         0.08179601]\n",
      " [1.         0.18740924]\n",
      " [1.         0.01514925]\n",
      " [1.         0.15991479]\n",
      " [1.         0.03685817]\n",
      " [1.         0.22938336]\n",
      " [1.         0.56304167]\n",
      " [1.         0.96532025]\n",
      " [1.         0.61494097]\n",
      " [1.         0.32259055]\n",
      " [1.         0.23896763]\n",
      " [1.         0.3156016 ]\n",
      " [1.         0.13939342]\n",
      " [1.         0.69394944]\n",
      " [1.         0.18301783]\n",
      " [1.         0.24778281]\n",
      " [1.         0.21143174]\n",
      " [1.         0.73482622]\n",
      " [1.         0.404124  ]\n",
      " [1.         0.86453844]\n",
      " [1.         0.97503901]\n",
      " [1.         0.32449817]\n",
      " [1.         0.6315029 ]\n",
      " [1.         0.66281507]\n",
      " [1.         0.2591532 ]\n",
      " [1.         0.87246158]\n",
      " [1.         0.26666474]\n",
      " [1.         0.21009954]\n",
      " [1.         0.33598216]\n",
      " [1.         0.65493484]\n",
      " [1.         0.52706629]\n",
      " [1.         0.45415792]\n",
      " [1.         0.2924981 ]\n",
      " [1.         0.63285236]\n",
      " [1.         0.09249584]\n",
      " [1.         0.7202435 ]\n",
      " [1.         0.81311142]\n",
      " [1.         0.50030193]\n",
      " [1.         0.00560745]\n",
      " [1.         0.04182515]\n",
      " [1.         0.13016384]\n",
      " [1.         0.84411392]\n",
      " [1.         0.7007323 ]\n",
      " [1.         0.24877022]\n",
      " [1.         0.67106061]\n",
      " [1.         0.54771077]\n",
      " [1.         0.13403282]\n",
      " [1.         0.65090871]\n",
      " [1.         0.13721995]\n",
      " [1.         0.08880816]\n",
      " [1.         0.42263811]\n",
      " [1.         0.86141661]\n",
      " [1.         0.75634218]\n",
      " [1.         0.47253982]\n",
      " [1.         0.49563806]\n",
      " [1.         0.77911195]\n",
      " [1.         0.51329217]\n",
      " [1.         0.93277834]\n",
      " [1.         0.97574271]\n",
      " [1.         0.24723614]\n",
      " [1.         0.57865735]\n",
      " [1.         0.22353953]\n",
      " [1.         0.40302384]\n",
      " [1.         0.91689617]\n",
      " [1.         0.93320425]\n",
      " [1.         0.31758281]\n",
      " [1.         0.93726517]\n",
      " [1.         0.39959704]\n",
      " [1.         0.46419318]\n",
      " [1.         0.29867629]\n",
      " [1.         0.59070191]\n",
      " [1.         0.37609738]\n",
      " [1.         0.65206727]\n",
      " [1.         0.63173445]\n",
      " [1.         0.66061995]\n",
      " [1.         0.32127016]\n",
      " [1.         0.80274534]\n",
      " [1.         0.67684969]\n",
      " [1.         0.58123996]\n",
      " [1.         0.18751345]\n",
      " [1.         0.26264728]\n",
      " [1.         0.30940214]\n",
      " [1.         0.85139621]\n",
      " [1.         0.00491773]\n",
      " [1.         0.6463182 ]\n",
      " [1.         0.61310969]\n",
      " [1.         0.05228537]\n",
      " [1.         0.06757292]\n",
      " [1.         0.57934034]\n",
      " [1.         0.3277269 ]\n",
      " [1.         0.7151384 ]\n",
      " [1.         0.94720734]\n",
      " [1.         0.30810126]\n",
      " [1.         0.20778158]\n",
      " [1.         0.66786923]\n",
      " [1.         0.10929049]\n",
      " [1.         0.55918336]\n",
      " [1.         0.74049622]\n",
      " [1.         0.51513025]\n",
      " [1.         0.49160245]\n",
      " [1.         0.57788276]\n",
      " [1.         0.38503947]\n",
      " [1.         0.07356646]\n",
      " [1.         0.06285595]\n",
      " [1.         0.65497528]\n",
      " [1.         0.39991468]\n",
      " [1.         0.40919878]\n",
      " [1.         0.46297379]\n",
      " [1.         0.03635345]\n",
      " [1.         0.94624515]\n",
      " [1.         0.30666194]\n",
      " [1.         0.37167537]\n",
      " [1.         0.45231993]\n",
      " [1.         0.66131048]\n",
      " [1.         0.84984293]\n",
      " [1.         0.61199814]\n",
      " [1.         0.3039992 ]\n",
      " [1.         0.87951193]\n",
      " [1.         0.77534328]\n",
      " [1.         0.30624009]\n",
      " [1.         0.55211236]\n",
      " [1.         0.03424354]\n",
      " [1.         0.92078032]\n",
      " [1.         0.92945376]\n",
      " [1.         0.79712086]\n",
      " [1.         0.9574828 ]\n",
      " [1.         0.15646711]\n",
      " [1.         0.33057149]\n",
      " [1.         0.54600086]\n",
      " [1.         0.70525336]\n",
      " [1.         0.58999543]\n",
      " [1.         0.20027029]\n",
      " [1.         0.60228655]\n",
      " [1.         0.35370751]\n",
      " [1.         0.1978034 ]\n",
      " [1.         0.82205175]\n",
      " [1.         0.71240024]\n",
      " [1.         0.86037847]\n",
      " [1.         0.87170186]\n",
      " [1.         0.8113167 ]\n",
      " [1.         0.02333643]\n",
      " [1.         0.03211799]]\n"
     ]
    }
   ],
   "source": [
    "ones = np.ones((x1_list.shape[0], 1))\n",
    "X = np.concatenate((ones, x1_list), axis = 1)\n",
    "print(X)"
   ]
  },
  {
   "cell_type": "markdown",
   "metadata": {},
   "source": [
    "Tính W"
   ]
  },
  {
   "cell_type": "code",
   "execution_count": 6,
   "metadata": {},
   "outputs": [
    {
     "name": "stdout",
     "output_type": "stream",
     "text": [
      "[[ 3.92815854]\n",
      " [10.09314688]]\n"
     ]
    }
   ],
   "source": [
    "W = np.dot(np.linalg.pinv(np.dot(X.T, X)), np.dot(X.T, y_list))\n",
    "print(W)"
   ]
  },
  {
   "cell_type": "markdown",
   "metadata": {},
   "source": [
    "Vẽ trend line"
   ]
  },
  {
   "cell_type": "code",
   "execution_count": 7,
   "metadata": {},
   "outputs": [
    {
     "data": {
      "image/png": "[encoded data removed]",
      "text/plain": [
       "<Figure size 640x480 with 1 Axes>"
      ]
     },
     "metadata": {},
     "output_type": "display_data"
    }
   ],
   "source": [
    "x_trend = np.linspace(0, 1, 2)\n",
    "y_trend = x_trend * W[1][0] + W[0][0]\n",
    "\n",
    "plt.plot(x1_list, y_list, \"ro\")\n",
    "plt.plot(x_trend, y_trend)\n",
    "\n",
    "plt.show()"
   ]
  }
 ],
 "metadata": {
  "kernelspec": {
   "display_name": "Python 3",
   "language": "python",
   "name": "python3"
  },
  "language_info": {
   "codemirror_mode": {
    "name": "ipython",
    "version": 3
   },
   "file_extension": ".py",
   "mimetype": "text/x-python",
   "name": "python",
   "nbconvert_exporter": "python",
   "pygments_lexer": "ipython3",
   "version": "3.12.5"
  }
 },
 "nbformat": 4,
 "nbformat_minor": 2
}
