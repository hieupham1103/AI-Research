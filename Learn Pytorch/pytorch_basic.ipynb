{
 "cells": [
  {
   "cell_type": "code",
   "execution_count": 32,
   "id": "8c79b221-160a-42fe-883f-420f03a4c46e",
   "metadata": {},
   "outputs": [],
   "source": [
    "import torch"
   ]
  },
  {
   "cell_type": "code",
   "execution_count": 154,
   "id": "34dbe821-d0a9-4b99-96cb-a39dcad0ab89",
   "metadata": {},
   "outputs": [
    {
     "name": "stdout",
     "output_type": "stream",
     "text": [
      "tensor(4., requires_grad=True)\n"
     ]
    }
   ],
   "source": [
    "x = torch.tensor(2)\n",
    "y = torch.tensor(4)\n",
    "\n",
    "#w = 2\n",
    "w = torch.tensor(4., requires_grad = True)\n",
    "\n",
    "print(w)"
   ]
  },
  {
   "cell_type": "code",
   "execution_count": 156,
   "id": "daee4111-c4c3-49a4-aeab-09cf49afe9eb",
   "metadata": {},
   "outputs": [
    {
     "name": "stdout",
     "output_type": "stream",
     "text": [
      "tensor(6., grad_fn=<AddBackward0>)\n"
     ]
    }
   ],
   "source": [
    "y_hat = x + w\n",
    "print(y_hat)"
   ]
  },
  {
   "cell_type": "code",
   "execution_count": 158,
   "id": "26d7f690-69ce-48ae-a8f7-dc76f71271c1",
   "metadata": {},
   "outputs": [],
   "source": [
    "loss = (y_hat - y) ** 2"
   ]
  },
  {
   "cell_type": "code",
   "execution_count": 160,
   "id": "b7cbe457-527b-4258-b259-0e0f2309818d",
   "metadata": {},
   "outputs": [],
   "source": [
    "loss.backward()"
   ]
  },
  {
   "cell_type": "code",
   "execution_count": 166,
   "id": "e10c9fc3-c74c-4c51-a9d7-0612f5051684",
   "metadata": {},
   "outputs": [
    {
     "name": "stdout",
     "output_type": "stream",
     "text": [
      "tensor(4.)\n",
      "tensor(0., grad_fn=<SubBackward0>)\n"
     ]
    }
   ],
   "source": [
    "print(w.grad)\n",
    "w = w - w.grad\n",
    "print(w)"
   ]
  },
  {
   "cell_type": "code",
   "execution_count": null,
   "id": "86b2ac57-688c-417d-86a0-1930705040ce",
   "metadata": {},
   "outputs": [],
   "source": []
  }
 ],
 "metadata": {
  "kernelspec": {
   "display_name": "Python 3 (ipykernel)",
   "language": "python",
   "name": "python3"
  },
  "language_info": {
   "codemirror_mode": {
    "name": "ipython",
    "version": 3
   },
   "file_extension": ".py",
   "mimetype": "text/x-python",
   "name": "python",
   "nbconvert_exporter": "python",
   "pygments_lexer": "ipython3",
   "version": "3.12.4"
  }
 },
 "nbformat": 4,
 "nbformat_minor": 5
}
