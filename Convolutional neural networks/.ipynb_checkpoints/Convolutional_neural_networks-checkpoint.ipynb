{
 "cells": [
  {
   "cell_type": "markdown",
   "metadata": {},
   "source": [
    "### MobileNet\n"
   ]
  },
  {
   "cell_type": "code",
   "execution_count": 92,
   "metadata": {},
   "outputs": [
    {
     "name": "stdout",
     "output_type": "stream",
     "text": [
      "[4, 4, 5]\n"
     ]
    }
   ],
   "source": [
    "input_shape = [6,6,3]\n",
    "kenels_shape = [3,3,input_shape[2]]\n",
    "output_shape = [input_shape[0] - kenels_shape[0] // 2 - 1, input_shape[1] - kenels_shape[1] // 2 - 1, 5]\n",
    "print(output_shape)"
   ]
  },
  {
   "cell_type": "code",
   "execution_count": 107,
   "metadata": {},
   "outputs": [],
   "source": [
    "def cal_in_normal_convolution(input_shape, kenels_shape, output_shape):\n",
    "    cal_in_output = output_shape[0] * output_shape[1] * output_shape[2]\n",
    "    cal_in_kenels = kenels_shape[0] * kenels_shape[1] * kenels_shape[2]\n",
    "\n",
    "    return cal_in_output * cal_in_kenels\n",
    "\n",
    "def cal_in_MobileNet_convolution(input_shape, kenels_shape, output_shape):\n",
    "    depthwise_output = [input_shape[0] - kenels_shape[0] // 2 - 1, input_shape[1] - kenels_shape[1] // 2 - 1, input_shape[2]]\n",
    "    cal_in_depthwise = depthwise_output[0] * depthwise_output[1] * depthwise_output[2] * kenels_shape[0] * kenels_shape[1]\n",
    "    \n",
    "    pointwise_output_shape = output_shape\n",
    "    pointwise_kenels_shape = [1,1,pointwise_output_shape[2]]\n",
    "    \n",
    "    return cal_in_depthwise + cal_in_normal_convolution(depthwise_output, pointwise_kenels_shape, pointwise_output_shape)\n",
    "    "
   ]
  },
  {
   "cell_type": "code",
   "execution_count": 109,
   "metadata": {},
   "outputs": [
    {
     "name": "stdout",
     "output_type": "stream",
     "text": [
      "2160\n",
      "832\n"
     ]
    }
   ],
   "source": [
    "print(cal_in_normal_convolution(input_shape, kenels_shape, output_shape))\n",
    "print(cal_in_MobileNet_convolution(input_shape, kenels_shape, output_shape))"
   ]
  }
 ],
 "metadata": {
  "kernelspec": {
   "display_name": "Python 3",
   "language": "python",
   "name": "python3"
  },
  "language_info": {
   "codemirror_mode": {
    "name": "ipython",
    "version": 3
   },
   "file_extension": ".py",
   "mimetype": "text/x-python",
   "name": "python",
   "nbconvert_exporter": "python",
   "pygments_lexer": "ipython3",
   "version": "3.12.5"
  }
 },
 "nbformat": 4,
 "nbformat_minor": 2
}
